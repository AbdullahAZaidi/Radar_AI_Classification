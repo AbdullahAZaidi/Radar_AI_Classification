{
  "nbformat": 4,
  "nbformat_minor": 0,
  "metadata": {
    "colab": {
      "name": "Soli_data_CNN.ipynb",
      "provenance": [],
      "toc_visible": true,
      "authorship_tag": "ABX9TyOSaBr2nOMRES96PHIubuIx",
      "include_colab_link": true
    },
    "kernelspec": {
      "name": "python3",
      "display_name": "Python 3"
    },
    "accelerator": "GPU"
  },
  "cells": [
    {
      "cell_type": "markdown",
      "metadata": {
        "id": "view-in-github",
        "colab_type": "text"
      },
      "source": [
        "<a href=\"https://colab.research.google.com/github/AbdullahAZaidi/Radar_AI_Classification/blob/master/Soli_data_CNN.ipynb\" target=\"_parent\"><img src=\"https://colab.research.google.com/assets/colab-badge.svg\" alt=\"Open In Colab\"/></a>"
      ]
    },
    {
      "cell_type": "code",
      "metadata": {
        "id": "sqAYHJqoKHos",
        "colab_type": "code",
        "colab": {}
      },
      "source": [
        "from pathlib import Path\n",
        "import matplotlib.pyplot as plt\n",
        "import cv2\n",
        "import h5py\n",
        "import glob\n",
        "import numpy as np"
      ],
      "execution_count": 32,
      "outputs": []
    },
    {
      "cell_type": "code",
      "metadata": {
        "id": "IaLlniZJyJN6",
        "colab_type": "code",
        "colab": {
          "base_uri": "https://localhost:8080/",
          "height": 34
        },
        "outputId": "ab906095-8e90-44ad-f258-0a8d67200ec4"
      },
      "source": [
        "from google.colab import drive\n",
        "drive.mount('/content/gdrive')"
      ],
      "execution_count": 33,
      "outputs": [
        {
          "output_type": "stream",
          "text": [
            "Drive already mounted at /content/gdrive; to attempt to forcibly remount, call drive.mount(\"/content/gdrive\", force_remount=True).\n"
          ],
          "name": "stdout"
        }
      ]
    },
    {
      "cell_type": "code",
      "metadata": {
        "id": "hI4kf3h5KNpz",
        "colab_type": "code",
        "colab": {}
      },
      "source": [
        "def data_collection():\n",
        "    # dataset = np.ndarray(shape=(len(label), 32, 32, 3), dtype=np.float32)\n",
        "    data = []\n",
        "    label = []\n",
        "    fig=plt.figure(figsize=(8, 8))\n",
        "    for name in glob.glob('/content/gdrive/My Drive/Soli_data/dsp_3/*.h5'):\n",
        "        use_channel = 0\n",
        "        with h5py.File(name, 'r') as f:\n",
        "    # Data and label are numpy arrays\n",
        "            data_s = f['ch{}'.format(use_channel)][()]\n",
        "            label_s = f['label'][()]\n",
        "#             print(len(data_s))\n",
        "            for i in range (int(len(data_s))):\n",
        "                image = data_s[i].reshape(32,32,1)\n",
        "#                 fig.add_subplot(20,20,i+1)\n",
        "                # plt.imshow(image)\n",
        "#                 plt.show()\n",
        "                data.append(image)\n",
        "                label.append(label_s[i])\n",
        "#                 print (label_s[i])\n",
        "                \n",
        "    return data, label\n"
      ],
      "execution_count": 34,
      "outputs": []
    },
    {
      "cell_type": "code",
      "metadata": {
        "id": "mLNQsSGsQIqM",
        "colab_type": "code",
        "colab": {
          "base_uri": "https://localhost:8080/",
          "height": 34
        },
        "outputId": "7f363e92-6d9e-4cec-8dd8-f15eea899d3e"
      },
      "source": [
        "from sklearn.model_selection import train_test_split\n",
        "\n",
        "data, labels = data_collection()\n",
        "# Split the data\n",
        "x_train, x_valid, y_train, y_valid = train_test_split(data, labels, test_size=0.33, shuffle= True)\n",
        "\n",
        "x_train = np.array(x_train)\n",
        "x_valid = np.array(x_valid)\n",
        "\n",
        "y_train = np.array(y_train)\n",
        "y_valid = np.array(y_valid)\n"
      ],
      "execution_count": 35,
      "outputs": [
        {
          "output_type": "display_data",
          "data": {
            "text/plain": [
              "<Figure size 576x576 with 0 Axes>"
            ]
          },
          "metadata": {
            "tags": []
          }
        }
      ]
    },
    {
      "cell_type": "code",
      "metadata": {
        "id": "ET-VsE6tOipN",
        "colab_type": "code",
        "colab": {
          "base_uri": "https://localhost:8080/",
          "height": 34
        },
        "outputId": "df8c4361-348e-4e16-9c5c-3003c572761a"
      },
      "source": [
        "print(np.unique(y_valid))"
      ],
      "execution_count": 40,
      "outputs": [
        {
          "output_type": "stream",
          "text": [
            "[ 0  1  2  3  4  5  6  7  8  9 10 11]\n"
          ],
          "name": "stdout"
        }
      ]
    },
    {
      "cell_type": "code",
      "metadata": {
        "id": "oZ4cdzaw9ayf",
        "colab_type": "code",
        "colab": {}
      },
      "source": [
        "from keras.datasets import cifar10\n",
        "from keras.models import Sequential\n",
        "from keras.layers import Dense\n",
        "from keras.layers import Dropout\n",
        "from keras.layers import Flatten\n",
        "from keras.constraints import maxnorm\n",
        "from keras.optimizers import SGD\n",
        "from keras.layers.convolutional import Conv2D\n",
        "from keras.layers.convolutional import MaxPooling2D\n",
        "from keras.layers import AveragePooling2D\n",
        "from keras.utils import np_utils\n",
        "\n",
        "import cv2\n",
        "from tensorflow.keras.preprocessing.image import load_img\n",
        "from tensorflow.keras.preprocessing.image import img_to_array\n",
        "from tensorflow.keras.applications.imagenet_utils import decode_predictions\n",
        "import keras,os\n",
        "from keras.models import Sequential\n",
        "from keras.layers import Dense, Conv2D, MaxPool2D , Flatten\n",
        "from keras.preprocessing.image import ImageDataGenerator\n",
        "import numpy as np\n"
      ],
      "execution_count": 51,
      "outputs": []
    },
    {
      "cell_type": "code",
      "metadata": {
        "id": "MLVNWWoB9bpd",
        "colab_type": "code",
        "colab": {}
      },
      "source": [
        "#VGG16\n",
        "\n",
        "# model = Sequential()\n",
        "# model.add(Conv2D(input_shape=(32,32,1),filters=64,kernel_size=(3,3),padding=\"same\", activation=\"relu\"))\n",
        "# model.add(Conv2D(filters=64,kernel_size=(3,3),padding=\"same\", activation=\"relu\"))\n",
        "# model.add(MaxPool2D(pool_size=(2,2),strides=(2,2)))\n",
        "# model.add(Conv2D(filters=128, kernel_size=(3,3), padding=\"same\", activation=\"relu\"))\n",
        "# model.add(Conv2D(filters=128, kernel_size=(3,3), padding=\"same\", activation=\"relu\"))\n",
        "# model.add(MaxPool2D(pool_size=(2,2),strides=(2,2)))\n",
        "# model.add(Conv2D(filters=256, kernel_size=(3,3), padding=\"same\", activation=\"relu\"))\n",
        "# model.add(Conv2D(filters=256, kernel_size=(3,3), padding=\"same\", activation=\"relu\"))\n",
        "# model.add(Conv2D(filters=256, kernel_size=(3,3), padding=\"same\", activation=\"relu\"))\n",
        "# model.add(MaxPool2D(pool_size=(2,2),strides=(2,2)))\n",
        "# model.add(Conv2D(filters=512, kernel_size=(3,3), padding=\"same\", activation=\"relu\"))\n",
        "# model.add(Conv2D(filters=512, kernel_size=(3,3), padding=\"same\", activation=\"relu\"))\n",
        "# model.add(Conv2D(filters=512, kernel_size=(3,3), padding=\"same\", activation=\"relu\"))\n",
        "# model.add(MaxPool2D(pool_size=(2,2),strides=(2,2)))\n",
        "# model.add(Conv2D(filters=512, kernel_size=(3,3), padding=\"same\", activation=\"relu\"))\n",
        "# model.add(Conv2D(filters=512, kernel_size=(3,3), padding=\"same\", activation=\"relu\"))\n",
        "# model.add(Conv2D(filters=512, kernel_size=(3,3), padding=\"same\", activation=\"relu\"))\n",
        "# model.add(MaxPool2D(pool_size=(2,2),strides=(2,2)))\n",
        "\n",
        "\n",
        "# model.add(Flatten())\n",
        "# model.add(Dense(units=1024,activation=\"relu\"))\n",
        "# model.add(Dense(units=1024,activation=\"relu\"))\n",
        "# model.add(Dense(units=5, activation=\"softmax\"))"
      ],
      "execution_count": 25,
      "outputs": []
    },
    {
      "cell_type": "code",
      "metadata": {
        "id": "P0wP5roVdRZx",
        "colab_type": "code",
        "colab": {}
      },
      "source": [
        "#Deifning LeNET\n",
        "\n",
        "model = Sequential()\n",
        "model.add(Conv2D(input_shape=(32,32,1),filters=6,kernel_size=(3,3),padding=\"same\", activation=\"relu\"))\n",
        "# model.add(AveragePooling2D())\n",
        "# model.add(MaxPool2D(pool_size=(2,2),strides=(2,2)))\n",
        "\n",
        "model.add(Conv2D(filters=16, kernel_size=(3,3), padding=\"same\", activation=\"relu\"))\n",
        "# model.add(AveragePooling2D())\n",
        "# model.add(MaxPool2D(pool_size=(2,2),strides=(2,2)))\n",
        "\n",
        "\n",
        "\n",
        "model.add(Flatten())\n",
        "model.add(Dense(units=120,activation=\"relu\"))\n",
        "model.add(Dense(units=84,activation=\"relu\"))\n",
        "model.add(Dense(units=12, activation=\"softmax\"))\n",
        "\n",
        "\n",
        "# model.add(layers.AveragePooling2D())\n"
      ],
      "execution_count": 52,
      "outputs": []
    },
    {
      "cell_type": "code",
      "metadata": {
        "id": "6gax6M6M9lAW",
        "colab_type": "code",
        "colab": {}
      },
      "source": [
        "# optimization\n",
        "\n",
        "from keras.optimizers import Adam\n",
        "opt = Adam(lr=0.001)\n",
        "model.compile(optimizer=opt, loss=keras.losses.sparse_categorical_crossentropy, metrics=['accuracy'])"
      ],
      "execution_count": 53,
      "outputs": []
    },
    {
      "cell_type": "code",
      "metadata": {
        "id": "2lARt_AZ5NKJ",
        "colab_type": "code",
        "colab": {
          "base_uri": "https://localhost:8080/",
          "height": 374
        },
        "outputId": "c9a92fea-316b-4b2d-db09-906d488ae7d2"
      },
      "source": [
        "# running the model \n",
        "\n",
        "history = model.fit(\n",
        "    x_train,\n",
        "    y_train,\n",
        "    batch_size=None,\n",
        "    steps_per_epoch=100,\n",
        "    validation_steps=10,\n",
        "    epochs=10,\n",
        "    # We pass some validation for\n",
        "    # monitoring validation loss and metrics\n",
        "    # at the end of each epoch\n",
        "    validation_data=(x_valid, y_valid),\n",
        ")"
      ],
      "execution_count": 54,
      "outputs": [
        {
          "output_type": "stream",
          "text": [
            "Train on 3962 samples, validate on 1952 samples\n",
            "Epoch 1/10\n",
            "100/100 [==============================] - 4s 42ms/step - loss: 1.9389 - accuracy: 0.3469 - val_loss: 0.1468 - val_accuracy: 5.0102\n",
            "Epoch 2/10\n",
            "100/100 [==============================] - 4s 40ms/step - loss: 1.3469 - accuracy: 0.5405 - val_loss: 0.1265 - val_accuracy: 5.6352\n",
            "Epoch 3/10\n",
            "100/100 [==============================] - 4s 40ms/step - loss: 1.1591 - accuracy: 0.6031 - val_loss: 0.1162 - val_accuracy: 6.0092\n",
            "Epoch 4/10\n",
            "100/100 [==============================] - 4s 40ms/step - loss: 1.0667 - accuracy: 0.6327 - val_loss: 0.1110 - val_accuracy: 6.2295\n",
            "Epoch 5/10\n",
            "100/100 [==============================] - 4s 40ms/step - loss: 1.0044 - accuracy: 0.6544 - val_loss: 0.1083 - val_accuracy: 6.3986\n",
            "Epoch 6/10\n",
            "100/100 [==============================] - 4s 40ms/step - loss: 0.9521 - accuracy: 0.6736 - val_loss: 0.1058 - val_accuracy: 6.5471\n",
            "Epoch 7/10\n",
            "100/100 [==============================] - 4s 40ms/step - loss: 0.9071 - accuracy: 0.6911 - val_loss: 0.1049 - val_accuracy: 6.5984\n",
            "Epoch 8/10\n",
            "100/100 [==============================] - 4s 40ms/step - loss: 0.8690 - accuracy: 0.7048 - val_loss: 0.1052 - val_accuracy: 6.5830\n",
            "Epoch 9/10\n",
            "100/100 [==============================] - 4s 40ms/step - loss: 0.8372 - accuracy: 0.7163 - val_loss: 0.1045 - val_accuracy: 6.7572\n",
            "Epoch 10/10\n",
            "100/100 [==============================] - 4s 40ms/step - loss: 0.8117 - accuracy: 0.7249 - val_loss: 0.1064 - val_accuracy: 6.7469\n"
          ],
          "name": "stdout"
        }
      ]
    },
    {
      "cell_type": "code",
      "metadata": {
        "id": "mzFtspInqYN0",
        "colab_type": "code",
        "colab": {
          "base_uri": "https://localhost:8080/",
          "height": 295
        },
        "outputId": "f0bb9b7b-1ce3-4b90-ea93-3d1e1ef84277"
      },
      "source": [
        "# plotting network performance\n",
        "\n",
        "import matplotlib.pyplot as plt\n",
        "plt.plot(history.history['accuracy'])\n",
        "plt.plot(history.history['val_accuracy'])\n",
        "plt.plot(history.history['loss'])\n",
        "plt.plot(history.history['val_loss'])\n",
        "plt.title(\"model accuracy\")\n",
        "plt.ylabel(\"Accuracy\")\n",
        "plt.xlabel(\"Epoch\")\n",
        "plt.legend([\"Accuracy\",\"Validation Accuracy\",\"loss\",\"Validation Loss\"])\n",
        "plt.ylim(top = 1)\n",
        "plt.show()"
      ],
      "execution_count": 10,
      "outputs": [
        {
          "output_type": "display_data",
          "data": {
            "image/png": "[encoded data removed]",
            "text/plain": [
              "<Figure size 432x288 with 1 Axes>"
            ]
          },
          "metadata": {
            "tags": [],
            "needs_background": "light"
          }
        }
      ]
    },
    {
      "cell_type": "code",
      "metadata": {
        "id": "FBZMJy5hrF8g",
        "colab_type": "code",
        "colab": {
          "base_uri": "https://localhost:8080/",
          "height": 334
        },
        "outputId": "3d80bbc6-30e1-4944-a51f-61e1fd0cb132"
      },
      "source": [
        "# Testing the network on a random image\n",
        "\n",
        "j = 22\n",
        "img = x_valid[j]\n",
        "print (y_valid[j])\n",
        "img_2 = np.squeeze(img, axis = 2)\n",
        "plt.imshow(img_2)\n",
        "img = np.expand_dims(img, axis=0)\n",
        "output = model.predict(img)\n",
        "print(output)"
      ],
      "execution_count": 55,
      "outputs": [
        {
          "output_type": "stream",
          "text": [
            "[2]\n",
            "[[5.9586875e-02 1.7503069e-01 7.1461266e-01 3.1994127e-03 3.2244765e-04\n",
            "  1.3410264e-11 2.1822125e-02 3.5705469e-07 2.1046303e-02 2.8357771e-03\n",
            "  1.5433241e-03 0.0000000e+00]]\n"
          ],
          "name": "stdout"
        },
        {
          "output_type": "display_data",
          "data": {
            "image/png": "[encoded data removed]",
            "text/plain": [
              "<Figure size 432x288 with 1 Axes>"
            ]
          },
          "metadata": {
            "tags": [],
            "needs_background": "light"
          }
        }
      ]
    }
  ]
}